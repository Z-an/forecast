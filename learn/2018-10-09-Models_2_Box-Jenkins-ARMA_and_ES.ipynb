{
 "cells": [
  {
   "cell_type": "markdown",
   "metadata": {},
   "source": [
    "### Title: Box Jenkins Methods\n",
    "\n",
    "Author: Chris Hyland／Yiran Jing\n",
    "\n",
    "Date: 10-10-2018\n",
    "\n",
    "##### Summary\n",
    "\n",
    "- Fitted an ARMA(p,q) model on the data, where p is from 0-2, q is from 0-2. Additionally, tried fitting an exponentional smoothing model.\n",
    "\n",
    "\n",
    "- ARMA(1,0,0) is the best choice based on the overall trade-off by AIC and MAPE. However, we are still underperforming the baseline model. These notebooks do not consider any exogenous regressors and will be explored further in another notebook."
   ]
  },
  {
   "cell_type": "code",
   "execution_count": 3,
   "metadata": {},
   "outputs": [],
   "source": [
    "from collections import Counter\n",
    "import pandas as pd\n",
    "import csv\n",
    "import pprint\n",
    "import numpy as np\n",
    "import warnings\n",
    "warnings.filterwarnings('ignore')\n",
    "import datetime as dt\n",
    "from collections import defaultdict\n",
    "import matplotlib.dates as mdates\n",
    "import matplotlib.pyplot as plt\n",
    "import matplotlib as mpl\n",
    "from pandas import Series\n",
    "from matplotlib import pyplot\n",
    "#from time_series import ts_plot,ts_plot2,ts_plot3,acf_pacf_plot,hist,modify_time_format,epoch_seconds_to_timestamp\n",
    "\n",
    "#from time_series import pd_read_obs_csv # function used for read SA weather obs\n",
    "import statsmodels.api as sm\n",
    "import seaborn as sns\n",
    "import datetime\n",
    "import glob, os\n",
    "\n",
    "import warnings\n",
    "warnings.filterwarnings('ignore')\n",
    "\n",
    "%matplotlib inline"
   ]
  },
  {
   "cell_type": "code",
   "execution_count": 4,
   "metadata": {},
   "outputs": [],
   "source": [
    "# product_of_interest = [1111087398, 1111087395, 1111087396]\n",
    "train_data = pd.read_csv('../../intellify_data/Train_data.csv')\n",
    "val_data = pd.read_csv('../../intellify_data/Val_data.csv')\n",
    "\n",
    "train_data = train_data.set_index(\"Date\")\n",
    "val_data = val_data.set_index(\"Date\")"
   ]
  },
  {
   "cell_type": "markdown",
   "metadata": {},
   "source": [
    "Please refer to Models_1_VAR notebook to view the data wrangling and earlier analysis. We are only working with 3 products of interest. \n",
    "\n",
    "They are pizza within the top 5 high correlation"
   ]
  },
  {
   "cell_type": "markdown",
   "metadata": {},
   "source": [
    "## Box Jenkin Models"
   ]
  },
  {
   "cell_type": "code",
   "execution_count": 18,
   "metadata": {},
   "outputs": [],
   "source": [
    "from statsmodels.tsa.arima_model import ARIMA"
   ]
  },
  {
   "cell_type": "markdown",
   "metadata": {},
   "source": [
    "## AR(1) Models just to try things out initially.\n",
    "\n",
    "When forecasting, \"under forecasting\" demand is considered worse than \"over forecasting\" demand.\n",
    "\n",
    "We use the MAPE, as it puts a heavier penalty on negative errors (so under forecasting) relative to positive errors"
   ]
  },
  {
   "cell_type": "code",
   "execution_count": 19,
   "metadata": {},
   "outputs": [],
   "source": [
    "\"\"\"\n",
    "Checking results of AR(1) prediction.\n",
    "\"\"\"\n",
    "\n",
    "products = [\"Prod_one\", \"Prod_two\", \"Prod_three\"]\n",
    "\n",
    "results = {}\n",
    "# Loop over a forecast product\n",
    "for prod in products:\n",
    "    # Compute metric for each product.\n",
    "    diff = []\n",
    "    train_data[prod] = train_data[prod].astype('float64')\n",
    "    # Fit and predict AR(1) model.\n",
    "    ar_mod = ARIMA(train_data[prod], order=(1,0,0)).fit()\n",
    "    var_pred = ar_mod.predict(start=val_data.index[0], end=val_data.index[-1])\n",
    "    \n",
    "    for time in range(0, len(val_data[prod])):\n",
    "        # CHANGE THIS LINE TO CHANGE ERROR METRIC.\n",
    "        diff.append(100*(abs(var_pred[time] - val_data[prod].iloc[time])/val_data[prod].iloc[time]))\n",
    "\n",
    "    # Add the result to dictionary.\n",
    "    results.update({prod: sum(diff)/len(diff)})"
   ]
  },
  {
   "cell_type": "code",
   "execution_count": 20,
   "metadata": {},
   "outputs": [
    {
     "data": {
      "text/html": [
       "<div>\n",
       "<style scoped>\n",
       "    .dataframe tbody tr th:only-of-type {\n",
       "        vertical-align: middle;\n",
       "    }\n",
       "\n",
       "    .dataframe tbody tr th {\n",
       "        vertical-align: top;\n",
       "    }\n",
       "\n",
       "    .dataframe thead th {\n",
       "        text-align: right;\n",
       "    }\n",
       "</style>\n",
       "<table border=\"1\" class=\"dataframe\">\n",
       "  <thead>\n",
       "    <tr style=\"text-align: right;\">\n",
       "      <th></th>\n",
       "      <th>Product</th>\n",
       "      <th>MAPE</th>\n",
       "    </tr>\n",
       "  </thead>\n",
       "  <tbody>\n",
       "    <tr>\n",
       "      <th>0</th>\n",
       "      <td>Prod_one</td>\n",
       "      <td>43.068727</td>\n",
       "    </tr>\n",
       "    <tr>\n",
       "      <th>1</th>\n",
       "      <td>Prod_two</td>\n",
       "      <td>48.742628</td>\n",
       "    </tr>\n",
       "    <tr>\n",
       "      <th>2</th>\n",
       "      <td>Prod_three</td>\n",
       "      <td>50.264223</td>\n",
       "    </tr>\n",
       "  </tbody>\n",
       "</table>\n",
       "</div>"
      ],
      "text/plain": [
       "      Product       MAPE\n",
       "0    Prod_one  43.068727\n",
       "1    Prod_two  48.742628\n",
       "2  Prod_three  50.264223"
      ]
     },
     "execution_count": 20,
     "metadata": {},
     "output_type": "execute_result"
    }
   ],
   "source": [
    "pd.DataFrame(list(results.items()), columns=['Product', 'MAPE'])"
   ]
  },
  {
   "cell_type": "markdown",
   "metadata": {},
   "source": [
    "On average, the AR(1) model is off by roughly 45%. Terrible performance, but it is to be expected."
   ]
  },
  {
   "cell_type": "markdown",
   "metadata": {},
   "source": [
    "## P and Q selection\n",
    "The data is stationary, refer to Models_1_VAR notebook to view this.\n",
    "\n",
    "We now try a selection selection processes to decide the number of lags for the AR(p) and MA(q) model."
   ]
  },
  {
   "cell_type": "markdown",
   "metadata": {},
   "source": [
    "### Method 1: Visualization selection  based on ACF/PACF."
   ]
  },
  {
   "cell_type": "code",
   "execution_count": 22,
   "metadata": {},
   "outputs": [],
   "source": [
    "def data_time(data,x):\n",
    "    \"\"\"\n",
    "    Assist in wrangling the dataset for the draw_acf_pacf method.\n",
    "    \"\"\"\n",
    "    y_=data.loc[:,['Date',x]]\n",
    "    y_.set_index('Date',inplace=True)\n",
    "    y_.index = pd.to_datetime(y_.index)\n",
    "    return y_\n",
    "\n",
    "\n",
    "def draw_acf_pacf(check, data):\n",
    "    \"\"\"\n",
    "    Run ACF/PACF plot on each variable and check.\n",
    "    \"\"\"\n",
    "    for prob in check:\n",
    "        print(\"Product {} \".format(prob))\n",
    "        fig, ax = plt.subplots(1,2, figsize=(12,3))\n",
    "        y = data_time(data,prob)\n",
    "        sm.graphics.tsa.plot_acf(y, lags=50, ax=ax[0])\n",
    "        sm.graphics.tsa.plot_pacf(y, lags=50, ax=ax[1])\n",
    "        sns.despine()\n",
    "        fig.tight_layout()\n",
    "        plt.show()"
   ]
  },
  {
   "cell_type": "code",
   "execution_count": 23,
   "metadata": {},
   "outputs": [
    {
     "name": "stdout",
     "output_type": "stream",
     "text": [
      "Product Prod_one \n"
     ]
    },
    {
     "data": {
      "image/png": "[encoded data removed]",
      "text/plain": [
       "<Figure size 864x216 with 2 Axes>"
      ]
     },
     "metadata": {},
     "output_type": "display_data"
    },
    {
     "name": "stdout",
     "output_type": "stream",
     "text": [
      "Product Prod_two \n"
     ]
    },
    {
     "data": {
      "image/png": "[encoded data removed]",
      "text/plain": [
       "<Figure size 864x216 with 2 Axes>"
      ]
     },
     "metadata": {},
     "output_type": "display_data"
    },
    {
     "name": "stdout",
     "output_type": "stream",
     "text": [
      "Product Prod_three \n"
     ]
    },
    {
     "data": {
      "image/png": "[encoded data removed]",
      "text/plain": [
       "<Figure size 864x216 with 2 Axes>"
      ]
     },
     "metadata": {},
     "output_type": "display_data"
    }
   ],
   "source": [
    "products = [\"Prod_one\", \"Prod_two\", \"Prod_three\"]\n",
    "draw_acf_pacf(products, train_data)"
   ]
  },
  {
   "cell_type": "markdown",
   "metadata": {},
   "source": [
    "**Analysis of graphs for product 1-3 for the AR(p) model**\n",
    "\n",
    "From the charts, they suggest that the number of lags p should be around 3-4. The rationale is that for the autocorrelation plots, the autocorrelation decrease exponentionally after the 4 period mark. However, for the partial autocorrelation, it cuts off to zero after lag 1.\n",
    "\n",
    "Regardless, it appears that the AR(1) only is enough, but we still check other possible combinations."
   ]
  },
  {
   "cell_type": "markdown",
   "metadata": {},
   "source": [
    "### Method 2: Information Criteria selection based on the AIC for an ARMA(P,Q) Model.\n",
    "\n",
    "\n",
    "#### Model selection range\n",
    "\n",
    "- The parameter space for p is the interval (0,2) whilst for q, it is (0,2).\n",
    "\n",
    "#### Findings of this section:\n",
    "##### Based on AIC selection\n",
    "\n",
    "- AR(1) is suggested to be the most appropriate model.\n",
    "\n",
    "##### Based on MAPE\n",
    "\n",
    "- AR(1) is suggested to be the most appropriate model.\n"
   ]
  },
  {
   "cell_type": "code",
   "execution_count": 25,
   "metadata": {},
   "outputs": [],
   "source": [
    "\"\"\"\n",
    "Here, the benchMark is the AR(1) model.\n",
    "\"\"\"\n",
    "y = data_time(train_data,'Prod_one')\n",
    "arma_benchmark=sm.tsa.statespace.SARIMAX(y, order=(1, 0, 0)).fit()"
   ]
  },
  {
   "cell_type": "code",
   "execution_count": 26,
   "metadata": {},
   "outputs": [],
   "source": [
    "def aic_selection(data, p_lag, q_lag): \n",
    "    '''\n",
    "    Forward selection based on the AIC.\n",
    "    \n",
    "    Parameters\n",
    "    --------\n",
    "    data: series\n",
    "        The data to test for.\n",
    "    p_lag: int scalar\n",
    "        Maximum number of lags to test for AR.\n",
    "    q_lag: int scalar\n",
    "        Maximum number of lags to test for MA.\n",
    "    \n",
    "    Returns\n",
    "    --------\n",
    "    results: tuple\n",
    "        Tuple containing optimal p,q, and AIC score.\n",
    "    '''\n",
    "    best_score = np.inf\n",
    "    opt_p, opt_q = 0, 0\n",
    "\n",
    "    range_p, range_q= range(p_lag), range(q_lag)\n",
    "\n",
    "    # Iterate through and fit different lags.\n",
    "    for p in opt_p:\n",
    "        for q in opt_q:\n",
    "            try:\n",
    "                model=sm.tsa.statespace.SARIMAX(y,  order=(i, 0, k)).fit()\n",
    "                score=model.aic\n",
    "                if (score<best_score):\n",
    "                    best_score = model.aic\n",
    "                    opt_p, opt_q = p, q\n",
    "            except ValueError:\n",
    "                pass\n",
    "\n",
    "    return (opt_p, opt_q, best_score)"
   ]
  },
  {
   "cell_type": "code",
   "execution_count": null,
   "metadata": {},
   "outputs": [],
   "source": [
    "'''\n",
    "Select best ARMA model based on AIC, MAPE for each product\n",
    "'''\n",
    "products = [\"Prod_one\", \"Prod_two\", \"Prod_three\"]\n",
    "results = {}\n",
    "\n",
    "for prod in products:\n",
    "    y = data_time(train_data,prod)\n",
    "    opt_p, opt_q, best_score = aic_selection(y, 3, 3)\n",
    "    \n",
    "    results.update({prod: [opt_p, opt_q, best_score.round(2)]})"
   ]
  },
  {
   "cell_type": "code",
   "execution_count": 27,
   "metadata": {},
   "outputs": [],
   "source": [
    "'''\n",
    "Select best ARMA model based on AIC, MAPE for each product\n",
    "'''\n",
    "products = [\"Prod_one\", \"Prod_two\", \"Prod_three\"]\n",
    "results = {}\n",
    "for prod in products:\n",
    "    y = data_time(train_data,prod)\n",
    "    arma_benchmark=sm.tsa.statespace.SARIMAX(y, order=(1, 0, 0)).fit() \n",
    "    p1, q1, best_score1 = aic_selection(arma_benchmark,1, 0)\n",
    "    results.update({prod: [p1, q1,best_score1.round(2)]})"
   ]
  },
  {
   "cell_type": "markdown",
   "metadata": {},
   "source": [
    "The best lags to use for each product."
   ]
  },
  {
   "cell_type": "code",
   "execution_count": 48,
   "metadata": {},
   "outputs": [],
   "source": [
    "# Just some data formatting wrangling for next block.\n",
    "\n",
    "final_data = []\n",
    "for i in range(len(results.items())):\n",
    "    # Loop through product.\n",
    "    temp = []\n",
    "    temp.append(list(results.items())[i][0])\n",
    "    for score in list(results.items())[i][1]:\n",
    "        # Extract p,q, and AIC.\n",
    "        temp.append(score)\n",
    "    final_data.append(temp)"
   ]
  },
  {
   "cell_type": "code",
   "execution_count": 47,
   "metadata": {},
   "outputs": [
    {
     "data": {
      "text/html": [
       "<div>\n",
       "<style scoped>\n",
       "    .dataframe tbody tr th:only-of-type {\n",
       "        vertical-align: middle;\n",
       "    }\n",
       "\n",
       "    .dataframe tbody tr th {\n",
       "        vertical-align: top;\n",
       "    }\n",
       "\n",
       "    .dataframe thead th {\n",
       "        text-align: right;\n",
       "    }\n",
       "</style>\n",
       "<table border=\"1\" class=\"dataframe\">\n",
       "  <thead>\n",
       "    <tr style=\"text-align: right;\">\n",
       "      <th></th>\n",
       "      <th>Product</th>\n",
       "      <th>Optimal P</th>\n",
       "      <th>Optimal Q</th>\n",
       "      <th>AIC</th>\n",
       "    </tr>\n",
       "  </thead>\n",
       "  <tbody>\n",
       "    <tr>\n",
       "      <th>0</th>\n",
       "      <td>Prod_one</td>\n",
       "      <td>1</td>\n",
       "      <td>0</td>\n",
       "      <td>1912.13</td>\n",
       "    </tr>\n",
       "    <tr>\n",
       "      <th>1</th>\n",
       "      <td>Prod_two</td>\n",
       "      <td>1</td>\n",
       "      <td>0</td>\n",
       "      <td>1840.05</td>\n",
       "    </tr>\n",
       "    <tr>\n",
       "      <th>2</th>\n",
       "      <td>Prod_three</td>\n",
       "      <td>1</td>\n",
       "      <td>2</td>\n",
       "      <td>1856.30</td>\n",
       "    </tr>\n",
       "  </tbody>\n",
       "</table>\n",
       "</div>"
      ],
      "text/plain": [
       "      Product  Optimal P  Optimal Q      AIC\n",
       "0    Prod_one          1          0  1912.13\n",
       "1    Prod_two          1          0  1840.05\n",
       "2  Prod_three          1          2  1856.30"
      ]
     },
     "execution_count": 47,
     "metadata": {},
     "output_type": "execute_result"
    }
   ],
   "source": [
    "pd.DataFrame(final_data, columns=['Product','Optimal P','Optimal Q','AIC'])"
   ]
  },
  {
   "cell_type": "markdown",
   "metadata": {},
   "source": [
    "Hence, it appears the consensus is generally P=1 and Q=0."
   ]
  },
  {
   "cell_type": "markdown",
   "metadata": {},
   "source": [
    "## Exponential smoothing\n",
    "\n",
    "This model can be written as ARIMA(0,1,1).\n",
    "\n",
    "### Summary of this section.\n",
    "If our model selection is based on the AIC, ES has slighly smaller AIC than ARMA(1, 0, 0) for three products, but unfortunately it has a bigger MAPE than AR(1). \n",
    "\n",
    "Resultantly, the AR(1) is still a better choice overall."
   ]
  },
  {
   "cell_type": "code",
   "execution_count": 49,
   "metadata": {},
   "outputs": [],
   "source": [
    "'''\n",
    "Compare ES model with ARMA result based on AIC for each product\n",
    "'''\n",
    "products = [\"Prod_one\", \"Prod_two\", \"Prod_three\"]\n",
    "results = {}\n",
    "for prod in products:\n",
    "    y = data_time(train_data,prod)\n",
    "    arma_benchmark=sm.tsa.statespace.SARIMAX(y, order=(0, 1, 1)).fit() \n",
    "    p1, q1, best_score1 = aic_selection(arma_benchmark, 0, 1)\n",
    "    \n",
    "    results.update({prod: [p1, q1,best_score1.round(2)]})"
   ]
  },
  {
   "cell_type": "code",
   "execution_count": 52,
   "metadata": {},
   "outputs": [],
   "source": [
    "\"\"\"\n",
    "Checking results of Exponential smoothing prediction.\n",
    "\"\"\"\n",
    "\n",
    "products = [\"Prod_one\", \"Prod_two\", \"Prod_three\"]\n",
    "\n",
    "results = {}\n",
    "# Loop over a forecast product\n",
    "for prod in products:\n",
    "    # Compute metric for each product.\n",
    "    diff = []\n",
    "    train_data[prod] = train_data[prod].astype('float64')\n",
    "    # Fit and predict AR(1) model.\n",
    "    ar_mod = ARIMA(train_data[prod], order=(0,1,1)).fit()\n",
    "    var_pred = ar_mod.predict(start=val_data.index[0], end=val_data.index[-1])\n",
    "    \n",
    "    for time in range(0, len(val_data[prod])):\n",
    "        # CHANGE THIS LINE TO CHANGE ERROR METRIC.\n",
    "        diff.append(100*(abs(var_pred[time] - val_data[prod].iloc[time])/val_data[prod].iloc[time]))\n",
    "\n",
    "    # Add the result to dictionary.\n",
    "    results.update({prod: sum(diff)/len(diff)}) "
   ]
  },
  {
   "cell_type": "code",
   "execution_count": 53,
   "metadata": {},
   "outputs": [
    {
     "data": {
      "text/html": [
       "<div>\n",
       "<style scoped>\n",
       "    .dataframe tbody tr th:only-of-type {\n",
       "        vertical-align: middle;\n",
       "    }\n",
       "\n",
       "    .dataframe tbody tr th {\n",
       "        vertical-align: top;\n",
       "    }\n",
       "\n",
       "    .dataframe thead th {\n",
       "        text-align: right;\n",
       "    }\n",
       "</style>\n",
       "<table border=\"1\" class=\"dataframe\">\n",
       "  <thead>\n",
       "    <tr style=\"text-align: right;\">\n",
       "      <th></th>\n",
       "      <th>Product</th>\n",
       "      <th>MAPE</th>\n",
       "    </tr>\n",
       "  </thead>\n",
       "  <tbody>\n",
       "    <tr>\n",
       "      <th>0</th>\n",
       "      <td>Prod_one</td>\n",
       "      <td>101.255797</td>\n",
       "    </tr>\n",
       "    <tr>\n",
       "      <th>1</th>\n",
       "      <td>Prod_two</td>\n",
       "      <td>101.088261</td>\n",
       "    </tr>\n",
       "    <tr>\n",
       "      <th>2</th>\n",
       "      <td>Prod_three</td>\n",
       "      <td>101.252627</td>\n",
       "    </tr>\n",
       "  </tbody>\n",
       "</table>\n",
       "</div>"
      ],
      "text/plain": [
       "      Product        MAPE\n",
       "0    Prod_one  101.255797\n",
       "1    Prod_two  101.088261\n",
       "2  Prod_three  101.252627"
      ]
     },
     "execution_count": 53,
     "metadata": {},
     "output_type": "execute_result"
    }
   ],
   "source": [
    "pd.DataFrame(list(results.items()), columns=['Product', 'MAPE'])"
   ]
  },
  {
   "cell_type": "markdown",
   "metadata": {},
   "source": [
    "The MAPE here is extremely high. Definitely an extremely poor performance from the exponential model."
   ]
  }
 ],
 "metadata": {
  "kernelspec": {
   "display_name": "Python 3",
   "language": "python",
   "name": "python3"
  },
  "language_info": {
   "codemirror_mode": {
    "name": "ipython",
    "version": 3
   },
   "file_extension": ".py",
   "mimetype": "text/x-python",
   "name": "python",
   "nbconvert_exporter": "python",
   "pygments_lexer": "ipython3",
   "version": "3.7.0"
  }
 },
 "nbformat": 4,
 "nbformat_minor": 2
}
