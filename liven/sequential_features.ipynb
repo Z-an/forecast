{
 "cells": [
  {
   "cell_type": "code",
   "execution_count": 1,
   "metadata": {},
   "outputs": [],
   "source": [
    "import snow.utils as sf\n",
    "import pandas as pd\n",
    "from fbprophet import Prophet\n",
    "\n",
    "import warnings\n",
    "warnings.filterwarnings('ignore')\n",
    "import logging\n",
    "logger = logging.getLogger()\n",
    "logger.setLevel(logging.CRITICAL)"
   ]
  },
  {
   "cell_type": "code",
   "execution_count": 6,
   "metadata": {},
   "outputs": [
    {
     "name": "stdout",
     "output_type": "stream",
     "text": [
      "Using all_data_viewer...\n",
      "Established connection.\n",
      "Querying load_wh.all_data.postgres\n",
      "User_financials data:  ('2018-06-23', 'Gong Cha', Decimal('10.000000'), '113205', 11.9, 8.0, 1, 408, 'Melbourne', 11.9, 19.9, 19.9) \n",
      "\n",
      "Connection succesfully closed.\n"
     ]
    }
   ],
   "source": [
    "financials_df = sf.from_snow(wh='load_wh'\n",
    "                             ,role='all_data_viewer'\n",
    "                             ,db='all_data'\n",
    "                             ,q_kind='user_financials'\n",
    "                             ,to_df=True)"
   ]
  },
  {
   "cell_type": "code",
   "execution_count": 21,
   "metadata": {},
   "outputs": [
    {
     "data": {
      "text/html": [
       "<div>\n",
       "<style scoped>\n",
       "    .dataframe tbody tr th:only-of-type {\n",
       "        vertical-align: middle;\n",
       "    }\n",
       "\n",
       "    .dataframe tbody tr th {\n",
       "        vertical-align: top;\n",
       "    }\n",
       "\n",
       "    .dataframe thead th {\n",
       "        text-align: right;\n",
       "    }\n",
       "</style>\n",
       "<table border=\"1\" class=\"dataframe\">\n",
       "  <thead>\n",
       "    <tr style=\"text-align: right;\">\n",
       "      <th></th>\n",
       "      <th>ds</th>\n",
       "      <th>merchant</th>\n",
       "      <th>rate</th>\n",
       "      <th>uid</th>\n",
       "      <th>lifetime_transaction_count</th>\n",
       "      <th>lifetime_organic_volume</th>\n",
       "      <th>lifetime_promo_volume</th>\n",
       "      <th>sign_up_delta</th>\n",
       "      <th>city</th>\n",
       "      <th>transaction_org_volume</th>\n",
       "      <th>lifetime_aov</th>\n",
       "      <th>transaction_total_volume</th>\n",
       "    </tr>\n",
       "  </thead>\n",
       "  <tbody>\n",
       "    <tr>\n",
       "      <th>0</th>\n",
       "      <td>2018-06-23</td>\n",
       "      <td>Gong Cha</td>\n",
       "      <td>10.000000</td>\n",
       "      <td>113205</td>\n",
       "      <td>11.90</td>\n",
       "      <td>8.0</td>\n",
       "      <td>1</td>\n",
       "      <td>408</td>\n",
       "      <td>Melbourne</td>\n",
       "      <td>11.9</td>\n",
       "      <td>19.9</td>\n",
       "      <td>19.9</td>\n",
       "    </tr>\n",
       "    <tr>\n",
       "      <th>1</th>\n",
       "      <td>2018-11-02</td>\n",
       "      <td>Gong Cha</td>\n",
       "      <td>10.000000</td>\n",
       "      <td>149209</td>\n",
       "      <td>2267.79</td>\n",
       "      <td>6.4</td>\n",
       "      <td>170</td>\n",
       "      <td>341</td>\n",
       "      <td>Melbourne</td>\n",
       "      <td>14.4</td>\n",
       "      <td>7.2</td>\n",
       "      <td>14.4</td>\n",
       "    </tr>\n",
       "    <tr>\n",
       "      <th>2</th>\n",
       "      <td>2019-03-02</td>\n",
       "      <td>CoCo Fresh Tea &amp; Juice</td>\n",
       "      <td>10.000000</td>\n",
       "      <td>254227</td>\n",
       "      <td>412.00</td>\n",
       "      <td>0.0</td>\n",
       "      <td>33</td>\n",
       "      <td>205</td>\n",
       "      <td>Sydney</td>\n",
       "      <td>12.5</td>\n",
       "      <td>12.5</td>\n",
       "      <td>12.5</td>\n",
       "    </tr>\n",
       "    <tr>\n",
       "      <th>3</th>\n",
       "      <td>2018-12-08</td>\n",
       "      <td>CoCo Fresh Tea &amp; Juice</td>\n",
       "      <td>15.000000</td>\n",
       "      <td>224410</td>\n",
       "      <td>415.43</td>\n",
       "      <td>7.6</td>\n",
       "      <td>24</td>\n",
       "      <td>239</td>\n",
       "      <td>Sydney</td>\n",
       "      <td>15.0</td>\n",
       "      <td>15.0</td>\n",
       "      <td>15.0</td>\n",
       "    </tr>\n",
       "    <tr>\n",
       "      <th>4</th>\n",
       "      <td>2018-07-09</td>\n",
       "      <td>8Bit</td>\n",
       "      <td>20.000000</td>\n",
       "      <td>136073</td>\n",
       "      <td>0.50</td>\n",
       "      <td>12.0</td>\n",
       "      <td>1</td>\n",
       "      <td>370</td>\n",
       "      <td>Melbourne</td>\n",
       "      <td>0.5</td>\n",
       "      <td>12.5</td>\n",
       "      <td>12.5</td>\n",
       "    </tr>\n",
       "  </tbody>\n",
       "</table>\n",
       "</div>"
      ],
      "text/plain": [
       "          ds                merchant       rate     uid  \\\n",
       "0 2018-06-23                Gong Cha  10.000000  113205   \n",
       "1 2018-11-02                Gong Cha  10.000000  149209   \n",
       "2 2019-03-02  CoCo Fresh Tea & Juice  10.000000  254227   \n",
       "3 2018-12-08  CoCo Fresh Tea & Juice  15.000000  224410   \n",
       "4 2018-07-09                    8Bit  20.000000  136073   \n",
       "\n",
       "   lifetime_transaction_count  lifetime_organic_volume  lifetime_promo_volume  \\\n",
       "0                       11.90                      8.0                      1   \n",
       "1                     2267.79                      6.4                    170   \n",
       "2                      412.00                      0.0                     33   \n",
       "3                      415.43                      7.6                     24   \n",
       "4                        0.50                     12.0                      1   \n",
       "\n",
       "   sign_up_delta       city  transaction_org_volume  lifetime_aov  \\\n",
       "0            408  Melbourne                    11.9          19.9   \n",
       "1            341  Melbourne                    14.4           7.2   \n",
       "2            205     Sydney                    12.5          12.5   \n",
       "3            239     Sydney                    15.0          15.0   \n",
       "4            370  Melbourne                     0.5          12.5   \n",
       "\n",
       "   transaction_total_volume  \n",
       "0                      19.9  \n",
       "1                      14.4  \n",
       "2                      12.5  \n",
       "3                      15.0  \n",
       "4                      12.5  "
      ]
     },
     "execution_count": 21,
     "metadata": {},
     "output_type": "execute_result"
    }
   ],
   "source": [
    "## Convert strings to datetime objects\n",
    "financials_df.ds = pd.to_datetime(financials_df.ds)\n",
    "financials_df.head()"
   ]
  },
  {
   "cell_type": "markdown",
   "metadata": {},
   "source": [
    "### Feature engineering\n",
    "\n",
    "Now need to derive a\n",
    "\n",
    "    -> last transaction delta; [tick]\n",
    "    \n",
    "    -> repeat transaction delta; [tick]\n",
    "    \n",
    "    -> progressive single merchant volume; [tick]\n",
    "    \n",
    "    -> progressive organic volume count; [tick]\n",
    "    \n",
    "    -> progressive transaction count; [tick]\n",
    "    \n",
    "    -> promo volume for single transactions; [tick]\n",
    "    \n",
    "    -> progressive merchant count; [tick]\n",
    "    \n",
    "    -> progressive geo_cluster count; [not yet resolved!!]\n",
    "    \n",
    "    -> progressive merchant transaction count. [tick]\n",
    "    \n",
    "    ...   "
   ]
  },
  {
   "cell_type": "code",
   "execution_count": 73,
   "metadata": {},
   "outputs": [
    {
     "data": {
      "text/plain": [
       "564272"
      ]
     },
     "execution_count": 73,
     "metadata": {},
     "output_type": "execute_result"
    }
   ],
   "source": [
    "financials_df.shape[0]"
   ]
  },
  {
   "cell_type": "code",
   "execution_count": null,
   "metadata": {},
   "outputs": [
    {
     "name": "stdout",
     "output_type": "stream",
     "text": [
      "559272 transactions left to process...\n",
      "554272 transactions left to process...\n",
      "549272 transactions left to process...\n",
      "544272 transactions left to process...\n",
      "539272 transactions left to process...\n",
      "534272 transactions left to process...\n",
      "529272 transactions left to process...\n",
      "524272 transactions left to process...\n",
      "519272 transactions left to process...\n",
      "514272 transactions left to process...\n",
      "509272 transactions left to process...\n",
      "504272 transactions left to process...\n",
      "499272 transactions left to process...\n",
      "494272 transactions left to process...\n",
      "489272 transactions left to process...\n",
      "484272 transactions left to process...\n",
      "479272 transactions left to process...\n",
      "474272 transactions left to process...\n",
      "469272 transactions left to process...\n",
      "464272 transactions left to process...\n",
      "459272 transactions left to process...\n",
      "454272 transactions left to process...\n",
      "449272 transactions left to process...\n",
      "444272 transactions left to process...\n",
      "439272 transactions left to process...\n",
      "434272 transactions left to process...\n",
      "429272 transactions left to process...\n",
      "424272 transactions left to process...\n",
      "419272 transactions left to process...\n"
     ]
    }
   ],
   "source": [
    "transaction_delta = []\n",
    "repeat_transaction_delta = []\n",
    "\n",
    "progressive_transaction_count = []\n",
    "progressive_organic_volume = []\n",
    "\n",
    "progressive_merchant_count = []\n",
    "\n",
    "progressive_merchant_volume = []\n",
    "progressive_merchant_transaction_count = []\n",
    "\n",
    "single_transaction_promo_volume = []\n",
    "\n",
    "financials_df = financials_df.drop_duplicates().sort_values(by='ds',ascending=False)\n",
    "\n",
    "df = financials_df.copy()\n",
    "\n",
    "count=0\n",
    "for i,r in df.iterrows():\n",
    "    count+=1\n",
    "    uid = r.uid; merchant = r.merchant; date = r.ds\n",
    "    \n",
    "    user_df = df[df.uid==uid]\n",
    "    prior_df = user_df[user_df.ds<=date]\n",
    "    shaved_df = prior_df[prior_df.index!=i]\n",
    "    \n",
    "    if count % 5000 == 0:\n",
    "        print(str(df.shape[0]-count)+' transactions left to process...')\n",
    "    \n",
    "    single_transaction_promo_volume += [r.transaction_total_volume - r.transaction_org_volume]\n",
    "\n",
    "    progressive_transaction_count += [prior_df.shape[0]]\n",
    "    progressive_merchant_count += [prior_df.merchant.nunique()]\n",
    "    progressive_organic_volume += [prior_df.transaction_org_volume.sum()]\n",
    "    \n",
    "    if shaved_df.shape[0]>0:\n",
    "        transaction_delta += [(date-list(shaved_df.ds)[0]).days]\n",
    "    else:\n",
    "        transaction_delta += [None]\n",
    "    \n",
    "    merchant_df = shaved_df[shaved_df.merchant==merchant]\n",
    "    \n",
    "    if merchant_df.shape[0]>0:\n",
    "        repeat_transaction_delta += [(date-list(merchant_df.ds)[0]).days]\n",
    "    else:\n",
    "        repeat_transaction_delta += [None]\n",
    "        \n",
    "    progressive_merchant_volume += [(merchant_df.transaction_org_volume.sum())]\n",
    "    progressive_merchant_transaction_count += [merchant_df.shape[0]+1]\n",
    "    \n",
    "    \n",
    "    \n",
    "financials_df['transaction_promo_volume'] = single_transaction_promo_volume\n",
    "financials_df['prog_transaction_count'] = progressive_transaction_count\n",
    "financials_df['prog_merchant_count'] = progressive_merchant_count\n",
    "financials_df['prog_merchant_volume'] = progressive_merchant_volume\n",
    "financials_df['prog_merchant_transaction_count'] = progressive_merchant_transaction_count\n",
    "financials_df['prog_organic_volume'] = progressive_organic_volume\n",
    "financials_df['repeat_transaction_delta'] = repeat_transaction_delta\n",
    "financials_df['transaction_delta'] = transaction_delta"
   ]
  },
  {
   "cell_type": "code",
   "execution_count": 58,
   "metadata": {},
   "outputs": [
    {
     "data": {
      "text/plain": [
       "[229.35]"
      ]
     },
     "execution_count": 58,
     "metadata": {},
     "output_type": "execute_result"
    }
   ],
   "source": [
    "progressive_merchant_volume"
   ]
  },
  {
   "cell_type": "code",
   "execution_count": 60,
   "metadata": {},
   "outputs": [
    {
     "data": {
      "text/plain": [
       "[36]"
      ]
     },
     "execution_count": 60,
     "metadata": {},
     "output_type": "execute_result"
    }
   ],
   "source": [
    "progressive_merchant_transaction_count"
   ]
  },
  {
   "cell_type": "code",
   "execution_count": null,
   "metadata": {},
   "outputs": [],
   "source": [
    "single"
   ]
  }
 ],
 "metadata": {
  "kernelspec": {
   "display_name": "Python 3",
   "language": "python",
   "name": "python3"
  },
  "language_info": {
   "codemirror_mode": {
    "name": "ipython",
    "version": 3
   },
   "file_extension": ".py",
   "mimetype": "text/x-python",
   "name": "python",
   "nbconvert_exporter": "python",
   "pygments_lexer": "ipython3",
   "version": "3.7.2"
  }
 },
 "nbformat": 4,
 "nbformat_minor": 2
}
